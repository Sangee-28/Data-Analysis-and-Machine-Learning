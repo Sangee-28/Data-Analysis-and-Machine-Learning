{
  "cells": [
    {
      "cell_type": "markdown",
      "metadata": {
        "id": "view-in-github",
        "colab_type": "text"
      },
      "source": [
        "<a href=\"https://colab.research.google.com/github/Sangee-28/TaskMongoDB/blob/main/Guvi_Tasks_Numpy.ipynb\" target=\"_parent\"><img src=\"https://colab.research.google.com/assets/colab-badge.svg\" alt=\"Open In Colab\"/></a>"
      ]
    },
    {
      "cell_type": "markdown",
      "metadata": {
        "id": "xlH8O4bOfyM5"
      },
      "source": [
        "# Numpy\n",
        "\n"
      ]
    },
    {
      "cell_type": "code",
      "source": [
        ""
      ],
      "metadata": {
        "id": "favm8uZ8gIvK"
      },
      "execution_count": null,
      "outputs": []
    },
    {
      "cell_type": "markdown",
      "metadata": {
        "id": "i_7nJMPKfyM-"
      },
      "source": [
        "#### 1. Import the numpy package under the name `np` (★☆☆) \n",
        "(**hint**: import … as …)"
      ]
    },
    {
      "cell_type": "code",
      "execution_count": 2,
      "metadata": {
        "collapsed": true,
        "id": "vWszmKcMfyM_"
      },
      "outputs": [],
      "source": [
        "import numpy as np"
      ]
    },
    {
      "cell_type": "markdown",
      "metadata": {
        "id": "qJ71pxiefyM_"
      },
      "source": [
        "#### 2. Print the numpy version and the configuration (★☆☆) \n",
        "(**hint**: np.\\_\\_version\\_\\_, np.show\\_config)"
      ]
    },
    {
      "cell_type": "code",
      "execution_count": null,
      "metadata": {
        "id": "aidI3REzfyNA"
      },
      "outputs": [],
      "source": [
        "np.__version__\n",
        "np.show_config"
      ]
    },
    {
      "cell_type": "markdown",
      "metadata": {
        "id": "NSjxczabfyNA"
      },
      "source": [
        "#### 3. Create a null vector of size 10 (★☆☆) \n",
        "(**hint**: np.zeros)"
      ]
    },
    {
      "cell_type": "code",
      "execution_count": null,
      "metadata": {
        "id": "PqIp3BahfyNB"
      },
      "outputs": [],
      "source": [
        "zeros_array =np.zeros(10, dtype='int')\n",
        "zeros_array"
      ]
    },
    {
      "cell_type": "markdown",
      "metadata": {
        "id": "3UEnIACxfyNB"
      },
      "source": [
        "#### 4.  How to find the memory size of any array (★☆☆) \n",
        "(**hint**: size, itemsize)"
      ]
    },
    {
      "cell_type": "code",
      "execution_count": null,
      "metadata": {
        "id": "CTOCD5_DfyNC"
      },
      "outputs": [],
      "source": [
        "print(np.size(zeros_array))\n",
        "print(zeros_array.itemsize)\n"
      ]
    },
    {
      "cell_type": "markdown",
      "metadata": {
        "id": "VucgFz_1fyNC"
      },
      "source": [
        "#### 5.  How to get the documentation of the numpy add function from the command line? (★☆☆) \n",
        "(**hint**: np.info)"
      ]
    },
    {
      "cell_type": "code",
      "execution_count": null,
      "metadata": {
        "collapsed": true,
        "id": "wt3crFDQfyND"
      },
      "outputs": [],
      "source": [
        "np.info"
      ]
    },
    {
      "cell_type": "markdown",
      "metadata": {
        "id": "hTSvuHdWfyND"
      },
      "source": [
        "#### 6.  Create a null vector of size 10 but the fifth value which is 1 (★☆☆) \n",
        "(**hint**: array\\[4\\])"
      ]
    },
    {
      "cell_type": "code",
      "execution_count": null,
      "metadata": {
        "id": "vSVRLu1LfyND"
      },
      "outputs": [],
      "source": [
        "zeros_array1 =np.zeros(10, dtype='int')\n",
        "zeros_array1[5]=1\n",
        "print(zeros_array1)"
      ]
    },
    {
      "cell_type": "markdown",
      "metadata": {
        "id": "SBDJ-fWDfyNE"
      },
      "source": [
        "#### 7.  Create a vector with values ranging from 10 to 49 (★☆☆) \n",
        "(**hint**: np.arange)"
      ]
    },
    {
      "cell_type": "code",
      "execution_count": null,
      "metadata": {
        "id": "QZjPBWuhfyNE"
      },
      "outputs": [],
      "source": [
        "array1=np.arange(10,50)\n",
        "print(array1)"
      ]
    },
    {
      "cell_type": "markdown",
      "metadata": {
        "id": "kxN7Ea7UfyNF"
      },
      "source": [
        "#### 8.  Reverse a vector (first element becomes last) (★☆☆) \n",
        "(**hint**: array\\[::-1\\])"
      ]
    },
    {
      "cell_type": "code",
      "execution_count": null,
      "metadata": {
        "id": "wQWuiFK1fyNF"
      },
      "outputs": [],
      "source": [
        "array1[::-1]"
      ]
    },
    {
      "cell_type": "markdown",
      "metadata": {
        "id": "IbCft7BJfyNF"
      },
      "source": [
        "#### 9.  Create a 3x3 matrix with values ranging from 0 to 8 (★☆☆) \n",
        "(**hint**: reshape)"
      ]
    },
    {
      "cell_type": "code",
      "execution_count": null,
      "metadata": {
        "id": "oBKekWGwfyNG"
      },
      "outputs": [],
      "source": [
        "array2=np.arange(0,9)\n",
        "array3=array2.reshape(3,3)\n",
        "print(array3)"
      ]
    },
    {
      "cell_type": "markdown",
      "metadata": {
        "id": "HWABFUqnfyNG"
      },
      "source": [
        "#### 10. Find indices of non-zero elements from \\[1,2,0,0,4,0\\] (★☆☆) \n",
        "(**hint**: np.nonzero)"
      ]
    },
    {
      "cell_type": "code",
      "execution_count": null,
      "metadata": {
        "id": "tTyUi0mLfyNG"
      },
      "outputs": [],
      "source": [
        "array4=[1,2,0,0,4,0]\n",
        "np.nonzero(array4)"
      ]
    },
    {
      "cell_type": "markdown",
      "metadata": {
        "id": "RxNc2s2GfyNG"
      },
      "source": [
        "#### 11. Create a 3x3 identity matrix (★☆☆) \n",
        "(**hint**: np.eye)"
      ]
    },
    {
      "cell_type": "code",
      "execution_count": null,
      "metadata": {
        "id": "g2URr3olfyNG"
      },
      "outputs": [],
      "source": [
        "identity_matrix= np.eye(3,3,dtype='int')\n",
        "identity_matrix"
      ]
    },
    {
      "cell_type": "markdown",
      "metadata": {
        "id": "sZ8rgwCJfyNH"
      },
      "source": [
        "#### 12. Create a 3x3x3 array with random values (★☆☆) \n",
        "(**hint**: np.random.random)"
      ]
    },
    {
      "cell_type": "code",
      "execution_count": null,
      "metadata": {
        "collapsed": true,
        "id": "05z7XnlEfyNH"
      },
      "outputs": [],
      "source": [
        "random_array = np.random.random(size=(3,3,3))\n",
        "print(random_array)"
      ]
    },
    {
      "cell_type": "markdown",
      "metadata": {
        "id": "eacQdkdffyNH"
      },
      "source": [
        "#### 13. Create a 10x10 array with random values and find the minimum and maximum values (★☆☆) \n",
        "(**hint**: min, max)"
      ]
    },
    {
      "cell_type": "code",
      "execution_count": null,
      "metadata": {
        "id": "ZTVp4qgFfyNH",
        "colab": {
          "base_uri": "https://localhost:8080/"
        },
        "outputId": "76e15162-13ee-40dc-b526-338d171c6344"
      },
      "outputs": [
        {
          "output_type": "stream",
          "name": "stdout",
          "text": [
            "3.976104844649608e-05\n"
          ]
        }
      ],
      "source": [
        "random_array_1 = np.random.random(size=(10,10))\n",
        "print(np.min(random_array_1))"
      ]
    },
    {
      "cell_type": "markdown",
      "metadata": {
        "id": "IOW9sbR9fyNH"
      },
      "source": [
        "#### 14. Create a random vector of size 30 and find the mean value (★☆☆) \n",
        "(**hint**: mean)"
      ]
    },
    {
      "cell_type": "code",
      "execution_count": null,
      "metadata": {
        "id": "-FRc18WxfyNH",
        "colab": {
          "base_uri": "https://localhost:8080/"
        },
        "outputId": "dec3c436-cf16-439f-9172-48b21ee60feb"
      },
      "outputs": [
        {
          "output_type": "stream",
          "name": "stdout",
          "text": [
            "0.46749418789638997\n"
          ]
        }
      ],
      "source": [
        "random_array_2 = np.random.random(30)\n",
        "print(np.mean(random_array_2))"
      ]
    },
    {
      "cell_type": "code",
      "execution_count": null,
      "metadata": {
        "id": "g1FKJE21fyNI"
      },
      "outputs": [],
      "source": [
        "#Create a 2d array with 1 on the border and 0 inside \n",
        "import numpy as np\n",
        "x = np.ones((5,5))\n",
        "print(\"Original array:\")\n",
        "print(x)\n",
        "print(\"1 on the border and 0 inside in the array\")\n",
        "x[1:-1,1:-1] = 0\n",
        "print(x)\n"
      ]
    },
    {
      "cell_type": "markdown",
      "metadata": {
        "id": "DZBPHBK3fyNI"
      },
      "source": [
        "#### 16. How to add a border (filled with 0's) around an existing array? (★☆☆) \n",
        "(**hint**: np.pad)"
      ]
    },
    {
      "cell_type": "code",
      "execution_count": null,
      "metadata": {
        "id": "kHH_1ZZ3fyNI"
      },
      "outputs": [],
      "source": [
        "import numpy as np\n",
        "x = np.ones((3,3))\n",
        "print(\"Original array:\")\n",
        "print(x)\n",
        "print(\"0 on the border and 1 inside in the array\")\n",
        "x = np.pad(x, pad_width=1, mode='constant', constant_values=0)\n",
        "print(x)"
      ]
    },
    {
      "cell_type": "markdown",
      "metadata": {
        "id": "dqqZ4nQefyNI"
      },
      "source": [
        "#### 17. What is the result of the following expression? (★☆☆) \n",
        "(**hint**: NaN = not a number, inf = infinity)"
      ]
    },
    {
      "cell_type": "markdown",
      "metadata": {
        "id": "LtO-UQTmfyNI"
      },
      "source": [
        "```python\n",
        "0 * np.nan\n",
        "np.nan == np.nan\n",
        "np.inf > np.nan\n",
        "np.nan - np.nan\n",
        "0.3 == 3 * 0.1\n",
        "```"
      ]
    },
    {
      "cell_type": "code",
      "execution_count": null,
      "metadata": {
        "id": "05DmfTzEfyNI",
        "colab": {
          "base_uri": "https://localhost:8080/"
        },
        "outputId": "7ae4c1a9-ab5e-4c27-d91c-29f56650ffe6"
      },
      "outputs": [
        {
          "output_type": "execute_result",
          "data": {
            "text/plain": [
              "False"
            ]
          },
          "metadata": {},
          "execution_count": 31
        }
      ],
      "source": [
        "0 * np.nan\n",
        "np.nan == np.nan\n",
        "np.inf > np.nan\n",
        "np.nan - np.nan\n",
        "0.3 == 3 * 0.1"
      ]
    },
    {
      "cell_type": "markdown",
      "metadata": {
        "id": "SM7lNkmTfyNJ"
      },
      "source": [
        "#### 18. Create a 5x5 matrix with values 1,2,3,4 just below the diagonal (★☆☆) \n",
        "(**hint**: np.diag)"
      ]
    },
    {
      "cell_type": "code",
      "execution_count": null,
      "metadata": {
        "id": "jz4NL38UfyNJ",
        "colab": {
          "base_uri": "https://localhost:8080/"
        },
        "outputId": "ca94e44f-6a4d-49ea-b19d-caecc78010a1"
      },
      "outputs": [
        {
          "output_type": "stream",
          "name": "stdout",
          "text": [
            "[[0 0 0 0 0]\n",
            " [1 0 0 0 0]\n",
            " [0 2 0 0 0]\n",
            " [0 0 3 0 0]\n",
            " [0 0 0 4 0]]\n"
          ]
        }
      ],
      "source": [
        "Z = np.diag(1+np.arange(4), k = -1)\n",
        "print (Z)"
      ]
    },
    {
      "cell_type": "markdown",
      "metadata": {
        "id": "zcb8XFwAfyNJ"
      },
      "source": [
        "#### 19. Create a 8x8 matrix and fill it with a checkerboard pattern (★☆☆) \n",
        "(**hint**: array\\[::2\\])"
      ]
    },
    {
      "cell_type": "code",
      "execution_count": null,
      "metadata": {
        "id": "PKQ8IAQ_fyNJ",
        "colab": {
          "base_uri": "https://localhost:8080/"
        },
        "outputId": "cd70f96e-5840-499d-dacb-b52d407e8141"
      },
      "outputs": [
        {
          "output_type": "stream",
          "name": "stdout",
          "text": [
            "Checkerboard pattern:\n",
            "[[0 1 0 1 0 1 0 1]\n",
            " [1 0 1 0 1 0 1 0]\n",
            " [0 1 0 1 0 1 0 1]\n",
            " [1 0 1 0 1 0 1 0]\n",
            " [0 1 0 1 0 1 0 1]\n",
            " [1 0 1 0 1 0 1 0]\n",
            " [0 1 0 1 0 1 0 1]\n",
            " [1 0 1 0 1 0 1 0]]\n"
          ]
        }
      ],
      "source": [
        "\n",
        "x = np.ones((3,3))\n",
        "print(\"Checkerboard pattern:\")\n",
        "x = np.zeros((8,8),dtype=int)\n",
        "x[1::2,::2] = 1\n",
        "x[::2,1::2] = 1\n",
        "print(x)"
      ]
    },
    {
      "cell_type": "markdown",
      "metadata": {
        "id": "NDFbQTGafyNJ"
      },
      "source": [
        "#### 20. Consider a (6,7,8) shape array, what is the index (x,y,z) of the 100th element? \n",
        "(**hint**: np.unravel_index)"
      ]
    },
    {
      "cell_type": "code",
      "execution_count": null,
      "metadata": {
        "id": "kOrNAu-0fyNJ",
        "colab": {
          "base_uri": "https://localhost:8080/"
        },
        "outputId": "dba6ce0d-d0ce-49cb-b986-269dd6b5f953"
      },
      "outputs": [
        {
          "output_type": "stream",
          "name": "stdout",
          "text": [
            "(1, 5, 4)\n"
          ]
        }
      ],
      "source": [
        "print (np.unravel_index(100, (6,7,8)))"
      ]
    },
    {
      "cell_type": "markdown",
      "metadata": {
        "id": "AVyOZUwufyNJ"
      },
      "source": [
        "#### 21. Create a checkerboard 8x8 matrix using the tile function (★☆☆) \n",
        "(**hint**: np.tile)"
      ]
    },
    {
      "cell_type": "code",
      "execution_count": null,
      "metadata": {
        "id": "nkLagShkfyNK",
        "colab": {
          "base_uri": "https://localhost:8080/"
        },
        "outputId": "33b75abd-46d1-45ce-e9c5-dbebb07c615f"
      },
      "outputs": [
        {
          "output_type": "stream",
          "name": "stdout",
          "text": [
            "[[0 1 0 1 0 1 0 1]\n",
            " [1 0 1 0 1 0 1 0]\n",
            " [0 1 0 1 0 1 0 1]\n",
            " [1 0 1 0 1 0 1 0]\n",
            " [0 1 0 1 0 1 0 1]\n",
            " [1 0 1 0 1 0 1 0]\n",
            " [0 1 0 1 0 1 0 1]\n",
            " [1 0 1 0 1 0 1 0]]\n"
          ]
        }
      ],
      "source": [
        "Checkerboard_array= np.array([[0,1], [1,0]])\n",
        "Z = np.tile(Checkerboard_array,(4,4))\n",
        "print (Z)"
      ]
    },
    {
      "cell_type": "markdown",
      "metadata": {
        "id": "nG-VSU-TfyNK"
      },
      "source": [
        "#### 22. Normalize a 5x5 random matrix (★☆☆) \n",
        "(**hint**: (x - min) / (max - min))"
      ]
    },
    {
      "cell_type": "code",
      "execution_count": null,
      "metadata": {
        "id": "BWacGnd9fyNK"
      },
      "outputs": [],
      "source": [
        "random_matrix=np.random.random((5,5))\n",
        "norm_random_matrix=(random_matrix-np.min(random_matrix))/(np.max(random_matrix)-np.min(random_matrix))\n",
        "print(norm_random_matrix)"
      ]
    },
    {
      "cell_type": "markdown",
      "metadata": {
        "id": "C6fZ21PSfyNK"
      },
      "source": [
        "#### 23. Create a custom dtype that describes a color as four unsigned bytes (RGBA) (★☆☆) \n",
        "(**hint**: np.dtype)"
      ]
    },
    {
      "cell_type": "code",
      "execution_count": null,
      "metadata": {
        "collapsed": true,
        "id": "Afk8LCLzfyNK"
      },
      "outputs": [],
      "source": [
        ""
      ]
    },
    {
      "cell_type": "markdown",
      "metadata": {
        "id": "B6K3fsaQfyNK"
      },
      "source": [
        "#### 24. Multiply a 5x3 matrix by a 3x2 matrix (real matrix product) (★☆☆) \n",
        "(**hint**: np.dot | @)"
      ]
    },
    {
      "cell_type": "code",
      "execution_count": null,
      "metadata": {
        "id": "sQ5TaAccfyNK",
        "colab": {
          "base_uri": "https://localhost:8080/"
        },
        "outputId": "e4474101-d269-4d8d-ae83-4d04ec03086f"
      },
      "outputs": [
        {
          "output_type": "stream",
          "name": "stdout",
          "text": [
            "[[3 3]\n",
            " [3 3]\n",
            " [3 3]\n",
            " [3 3]\n",
            " [3 3]]\n"
          ]
        }
      ],
      "source": [
        "Matrix_multiply = np.dot(np.ones((5,3), dtype='int'), np.ones((3,2), dtype='int'))\n",
        "print (Matrix_multiply)"
      ]
    },
    {
      "cell_type": "markdown",
      "metadata": {
        "id": "83bhvd7-fyNK"
      },
      "source": [
        "#### 25. Given a 1D array, negate all elements which are between 3 and 8, in place. (★☆☆) \n",
        "(**hint**: >, <=)"
      ]
    },
    {
      "cell_type": "code",
      "execution_count": null,
      "metadata": {
        "id": "b41eZtdHfyNK"
      },
      "outputs": [],
      "source": [
        ""
      ]
    },
    {
      "cell_type": "markdown",
      "metadata": {
        "id": "YyRW7OGSfyNL"
      },
      "source": [
        "#### 26. What is the output of the following script? (★☆☆) \n",
        "(**hint**: np.sum)"
      ]
    },
    {
      "cell_type": "markdown",
      "metadata": {
        "id": "3bmCOn4QfyNL"
      },
      "source": [
        "```python\n",
        "# Author: Jake VanderPlas\n",
        "\n",
        "print(sum(range(5),-1))\n",
        "from numpy import *\n",
        "print(sum(range(5),-1))\n",
        "```"
      ]
    },
    {
      "cell_type": "code",
      "execution_count": null,
      "metadata": {
        "id": "rxmhNB6ufyNL"
      },
      "outputs": [],
      "source": [
        "print(sum(range(5),-1))\n",
        "from numpy import *\n",
        "print(sum(range(5),-1))"
      ]
    },
    {
      "cell_type": "markdown",
      "metadata": {
        "id": "Xvl9YudefyNL"
      },
      "source": [
        "#### 27. Consider an integer vector Z, which of these expressions are legal? (★☆☆)"
      ]
    },
    {
      "cell_type": "markdown",
      "metadata": {
        "id": "KAHk2i0XfyNL"
      },
      "source": [
        "```python\n",
        "Z**Z\n",
        "2 << Z >> 2\n",
        "Z <- Z\n",
        "1j*Z\n",
        "Z/1/1\n",
        "Z<Z>Z\n",
        "```"
      ]
    },
    {
      "cell_type": "code",
      "execution_count": null,
      "metadata": {
        "id": "LFKJ07eZfyNL"
      },
      "outputs": [],
      "source": [
        ""
      ]
    },
    {
      "cell_type": "markdown",
      "metadata": {
        "id": "RzJBDzF0fyNM"
      },
      "source": [
        "#### 28. What are the result of the following expressions?"
      ]
    },
    {
      "cell_type": "markdown",
      "metadata": {
        "id": "Yx2rsxi1fyNM"
      },
      "source": [
        "```python\n",
        "np.array(0) / np.array(0)\n",
        "np.array(0) // np.array(0)\n",
        "np.array([np.nan]).astype(int).astype(float)\n",
        "```"
      ]
    },
    {
      "cell_type": "code",
      "execution_count": null,
      "metadata": {
        "id": "2moMzFfJfyNM"
      },
      "outputs": [],
      "source": [
        "np.array(0) / np.array(0)\n",
        "np.array(0) // np.array(0)\n",
        "np.array([np.nan]).astype(int).astype(float)"
      ]
    },
    {
      "cell_type": "markdown",
      "metadata": {
        "id": "QCGu9W0AfyNN"
      },
      "source": [
        "#### 29. How to round away from zero a float array ? (★☆☆) \n",
        "(**hint**: np.uniform, np.copysign, np.ceil, np.abs)"
      ]
    },
    {
      "cell_type": "code",
      "execution_count": null,
      "metadata": {
        "id": "QJ8XpvfBfyNN",
        "colab": {
          "base_uri": "https://localhost:8080/"
        },
        "outputId": "85b8ecaa-8eb6-41ec-d814-95aacae18470"
      },
      "outputs": [
        {
          "output_type": "execute_result",
          "data": {
            "text/plain": [
              "array([-1., -1., -0.,  1.,  2.,  2.,  2.])"
            ]
          },
          "metadata": {},
          "execution_count": 44
        }
      ],
      "source": [
        "a = np.array([-1.7, -1.5, -0.2, 0.2, 1.5, 1.7, 2.0])\n",
        "np.ceil(a)\n",
        "array([-1., -1., -0.,  1.,  2.,  2.,  2.])"
      ]
    },
    {
      "cell_type": "markdown",
      "metadata": {
        "id": "FTQgR2-wfyNN"
      },
      "source": [
        "#### 30. How to find common values between two arrays? (★☆☆) \n",
        "(**hint**: np.intersect1d)"
      ]
    },
    {
      "cell_type": "code",
      "execution_count": null,
      "metadata": {
        "id": "tw851KeSfyNN",
        "colab": {
          "base_uri": "https://localhost:8080/"
        },
        "outputId": "3f52c02b-db90-4a01-cb2e-386564a3dc24"
      },
      "outputs": [
        {
          "output_type": "stream",
          "name": "stdout",
          "text": [
            "[0 2 4]\n"
          ]
        }
      ],
      "source": [
        "import numpy as np\n",
        "x = np.array([0, 1, 2, 3, 4]) \n",
        "y = np.array([0, 2, 4])\n",
        "print(np.intersect1d(x, y)) "
      ]
    },
    {
      "cell_type": "markdown",
      "metadata": {
        "id": "qhCA88HafyNO"
      },
      "source": [
        "#### 31. How to ignore all numpy warnings (not recommended)? (★☆☆) \n",
        "(**hint**: np.seterr, np.errstate)"
      ]
    },
    {
      "cell_type": "code",
      "execution_count": null,
      "metadata": {
        "id": "kBWub42ffyNO"
      },
      "outputs": [],
      "source": [
        ""
      ]
    },
    {
      "cell_type": "markdown",
      "metadata": {
        "id": "ORIHUBSNfyNO"
      },
      "source": [
        "#### 32. Is the following expressions true? (★☆☆) \n",
        "(**hint**: imaginary number)"
      ]
    },
    {
      "cell_type": "markdown",
      "metadata": {
        "id": "iM0UgBzLfyNO"
      },
      "source": [
        "```python\n",
        "np.sqrt(-1) == np.emath.sqrt(-1)\n",
        "```"
      ]
    },
    {
      "cell_type": "code",
      "execution_count": null,
      "metadata": {
        "id": "4hfDSBqzfyNP"
      },
      "outputs": [],
      "source": [
        ""
      ]
    },
    {
      "cell_type": "markdown",
      "metadata": {
        "id": "dFQImftCfyNP"
      },
      "source": [
        "#### 33. How to get the dates of yesterday, today and tomorrow? (★☆☆) \n",
        "(**hint**: np.datetime64, np.timedelta64)"
      ]
    },
    {
      "cell_type": "code",
      "execution_count": null,
      "metadata": {
        "collapsed": true,
        "id": "z2sORE_qfyNP"
      },
      "outputs": [],
      "source": [
        ""
      ]
    },
    {
      "cell_type": "markdown",
      "metadata": {
        "id": "jKQHFH6afyNP"
      },
      "source": [
        "#### 34. How to get all the dates corresponding to the month of July 2016? (★★☆) \n",
        "(**hint**: np.arange(dtype=datetime64\\['D'\\]))"
      ]
    },
    {
      "cell_type": "code",
      "execution_count": null,
      "metadata": {
        "id": "4a3225JifyNQ"
      },
      "outputs": [],
      "source": [
        ""
      ]
    },
    {
      "cell_type": "markdown",
      "metadata": {
        "id": "Rm97nBwCfyNQ"
      },
      "source": [
        "#### 35. How to compute ((A+B)\\*(-A/2)) in place (without copy)? (★★☆) \n",
        "(**hint**: np.add(out=), np.negative(out=), np.multiply(out=), np.divide(out=))"
      ]
    },
    {
      "cell_type": "code",
      "execution_count": null,
      "metadata": {
        "id": "gkiuaXxWfyNQ"
      },
      "outputs": [],
      "source": [
        ""
      ]
    },
    {
      "cell_type": "markdown",
      "metadata": {
        "id": "ue429nPVfyNQ"
      },
      "source": [
        "#### 36. Extract the integer part of a random array using 5 different methods (★★☆) \n",
        "(**hint**: %, np.floor, np.ceil, astype, np.trunc)"
      ]
    },
    {
      "cell_type": "code",
      "execution_count": null,
      "metadata": {
        "id": "SmCGzvVAfyNR"
      },
      "outputs": [],
      "source": [
        ""
      ]
    },
    {
      "cell_type": "markdown",
      "metadata": {
        "id": "21VcSECWfyNR"
      },
      "source": [
        "#### 37. Create a 5x5 matrix with row values ranging from 0 to 4 (★★☆) \n",
        "(**hint**: np.arange)"
      ]
    },
    {
      "cell_type": "code",
      "execution_count": null,
      "metadata": {
        "id": "Wu8yI3fQfyNR",
        "colab": {
          "base_uri": "https://localhost:8080/"
        },
        "outputId": "fcf34f96-d2c7-4c6b-f9e5-bbbe27bf6d0a"
      },
      "outputs": [
        {
          "output_type": "stream",
          "name": "stdout",
          "text": [
            "[[0. 1. 2. 3. 4.]\n",
            " [0. 1. 2. 3. 4.]\n",
            " [0. 1. 2. 3. 4.]\n",
            " [0. 1. 2. 3. 4.]\n",
            " [0. 1. 2. 3. 4.]]\n"
          ]
        }
      ],
      "source": [
        "a1= np.zeros((5,5))\n",
        "a1 += np.arange(5)\n",
        "print(a1)"
      ]
    },
    {
      "cell_type": "markdown",
      "metadata": {
        "id": "B9kdzRa3fyNR"
      },
      "source": [
        "#### 38. Consider a generator function that generates 10 integers and use it to build an array (★☆☆) \n",
        "(**hint**: np.fromiter)"
      ]
    },
    {
      "cell_type": "code",
      "execution_count": null,
      "metadata": {
        "id": "j6Vw1dvJfyNR",
        "colab": {
          "base_uri": "https://localhost:8080/"
        },
        "outputId": "a206246a-791d-4e97-d4c6-4914091af53a"
      },
      "outputs": [
        {
          "output_type": "stream",
          "name": "stdout",
          "text": [
            "[0. 1. 2. 3. 4. 5. 6. 7. 8. 9.]\n"
          ]
        }
      ],
      "source": [
        "def generate(): \n",
        "    for x in range(10):\n",
        "        yield x\n",
        "        \n",
        "a2 = np.fromiter(generate(), dtype=float, count=-1)\n",
        "print (a2)"
      ]
    },
    {
      "cell_type": "markdown",
      "metadata": {
        "id": "t3t6UEKtfyNS"
      },
      "source": [
        "#### 39. Create a vector of size 10 with values ranging from 0 to 1, both excluded (★★☆) \n",
        "(**hint**: np.linspace)"
      ]
    },
    {
      "cell_type": "code",
      "execution_count": null,
      "metadata": {
        "id": "e2nkw2QMfyNS",
        "colab": {
          "base_uri": "https://localhost:8080/"
        },
        "outputId": "5526de1f-502f-4ed1-91d8-e349fce2a12d"
      },
      "outputs": [
        {
          "output_type": "stream",
          "name": "stdout",
          "text": [
            "[0.09090909 0.18181818 0.27272727 0.36363636 0.45454545 0.54545455\n",
            " 0.63636364 0.72727273 0.81818182 0.90909091]\n"
          ]
        }
      ],
      "source": [
        "a3 = np.linspace(0,1,12,endpoint=True)[1:-1]\n",
        "print(a3)"
      ]
    },
    {
      "cell_type": "markdown",
      "metadata": {
        "id": "lw1yn4-gfyNS"
      },
      "source": [
        "#### 40. Create a random vector of size 10 and sort it (★★☆) \n",
        "(**hint**: sort)"
      ]
    },
    {
      "cell_type": "code",
      "execution_count": null,
      "metadata": {
        "id": "O-aBw6UHfyNS",
        "colab": {
          "base_uri": "https://localhost:8080/"
        },
        "outputId": "c19ddcf9-869a-495e-d58a-a6b0c1963945"
      },
      "outputs": [
        {
          "output_type": "stream",
          "name": "stdout",
          "text": [
            "[0.10871029 0.11479624 0.17036744 0.54799632 0.70733545 0.72808381\n",
            " 0.78707007 0.79598914 0.84255091 0.92036951]\n"
          ]
        }
      ],
      "source": [
        "a4 = np.random.random(10)\n",
        "a4.sort()\n",
        "print(a4)"
      ]
    },
    {
      "cell_type": "markdown",
      "metadata": {
        "id": "GKoUOP9pfyNS"
      },
      "source": [
        "#### 41. How to sum a small array faster than np.sum? (★★☆) \n",
        "(**hint**: np.add.reduce)"
      ]
    },
    {
      "cell_type": "code",
      "execution_count": null,
      "metadata": {
        "id": "nQh31hw_fyNS"
      },
      "outputs": [],
      "source": [
        ""
      ]
    },
    {
      "cell_type": "markdown",
      "metadata": {
        "id": "sMRhyDZ7fyNS"
      },
      "source": [
        "#### 42. Consider two random array A and B, check if they are equal (★★☆) \n",
        "(**hint**: np.allclose, np.array\\_equal)"
      ]
    },
    {
      "cell_type": "code",
      "execution_count": null,
      "metadata": {
        "id": "7KHAkf74fyNT",
        "colab": {
          "base_uri": "https://localhost:8080/"
        },
        "outputId": "e766ca61-ca7d-4e77-e42a-b04bbe398d8b"
      },
      "outputs": [
        {
          "output_type": "stream",
          "name": "stdout",
          "text": [
            "False\n"
          ]
        }
      ],
      "source": [
        "A = np.random.randint(0,2,5)\n",
        "B = np.random.randint(0,2,5)\n",
        "equal = np.allclose(A,B)\n",
        "print(equal)"
      ]
    },
    {
      "cell_type": "markdown",
      "metadata": {
        "id": "TT46MFE1fyNT"
      },
      "source": [
        "#### 43. Make an array immutable (read-only) (★★☆) \n",
        "(**hint**: flags.writeable)"
      ]
    },
    {
      "cell_type": "code",
      "execution_count": null,
      "metadata": {
        "id": "CbiA0j9ufyNT"
      },
      "outputs": [],
      "source": [
        "a5 = np.zeros(10)\n",
        "a5.flags.writeable = False\n",
        "a5[0] = 1"
      ]
    },
    {
      "cell_type": "markdown",
      "metadata": {
        "id": "FgXyFYppfyNT"
      },
      "source": [
        "#### 44. Consider a random 10x2 matrix representing cartesian coordinates, convert them to polar coordinates (★★☆) \n",
        "(**hint**: np.sqrt, np.arctan2)"
      ]
    },
    {
      "cell_type": "code",
      "execution_count": null,
      "metadata": {
        "id": "zRZkmqNufyNT",
        "colab": {
          "base_uri": "https://localhost:8080/"
        },
        "outputId": "81023cea-0079-465f-a815-f8aca19d73e4"
      },
      "outputs": [
        {
          "output_type": "stream",
          "name": "stdout",
          "text": [
            "[1.41421356 1.         1.         1.         1.         1.\n",
            " 1.         1.        ]\n",
            "[0.78539816 0.         1.57079633 0.         1.57079633 0.\n",
            " 1.57079633 0.        ]\n"
          ]
        }
      ],
      "source": [
        "a6 = np.random.random((10,2))\n",
        "X,Y = Z[:,0], Z[:,1]\n",
        "R = np.sqrt(X**2+Y**2)\n",
        "T = np.arctan2(Y,X)\n",
        "print(R)\n",
        "print(T)"
      ]
    },
    {
      "cell_type": "markdown",
      "metadata": {
        "id": "vQbmLSBlfyNT"
      },
      "source": [
        "#### 45. Create random vector of size 10 and replace the maximum value by 0 (★★☆) \n",
        "(**hint**: argmax)"
      ]
    },
    {
      "cell_type": "code",
      "execution_count": null,
      "metadata": {
        "id": "FVU9fJ1ZfyNT",
        "colab": {
          "base_uri": "https://localhost:8080/"
        },
        "outputId": "ec44c1da-3d43-49d6-df31-52d74c4ad821"
      },
      "outputs": [
        {
          "output_type": "stream",
          "name": "stdout",
          "text": [
            "[0.70010663 0.50185053 0.08948638 0.08957871 0.74073802 0.\n",
            " 0.09464597 0.58271519 0.37299077 0.68333903]\n"
          ]
        }
      ],
      "source": [
        "a7 = np.random.random(10)\n",
        "a7[a7.argmax()] = 0\n",
        "print(a7)"
      ]
    },
    {
      "cell_type": "markdown",
      "metadata": {
        "id": "KuPqIDWufyNU"
      },
      "source": [
        "#### 46. Create a structured array with `x` and `y` coordinates covering the \\[0,1\\]x\\[0,1\\] area (★★☆) \n",
        "(**hint**: np.meshgrid)"
      ]
    },
    {
      "cell_type": "code",
      "execution_count": null,
      "metadata": {
        "id": "Ve8eCg_zfyNU"
      },
      "outputs": [],
      "source": [
        "a8 = np.zeros((10,10), [('x',float),('y',float)])\n",
        "a8['x'], a8['y'] = np.meshgrid(np.linspace(0,1,10),\n",
        "                             np.linspace(0,1,10))\n",
        "print(a8)"
      ]
    },
    {
      "cell_type": "markdown",
      "metadata": {
        "id": "_rCqtgumfyNU"
      },
      "source": [
        "####  47. Given two arrays, X and Y, construct the Cauchy matrix C (Cij =1/(xi - yj)) \n",
        "(**hint**: np.subtract.outer)"
      ]
    },
    {
      "cell_type": "code",
      "execution_count": null,
      "metadata": {
        "id": "xnBBsPd9fyNU"
      },
      "outputs": [],
      "source": [
        ""
      ]
    },
    {
      "cell_type": "markdown",
      "metadata": {
        "id": "ELb73W2tfyNU"
      },
      "source": [
        "#### 48. Print the minimum and maximum representable value for each numpy scalar type (★★☆) \n",
        "(**hint**: np.iinfo, np.finfo, eps)"
      ]
    },
    {
      "cell_type": "code",
      "execution_count": null,
      "metadata": {
        "id": "9aCBGNI6fyNU"
      },
      "outputs": [],
      "source": [
        "for dtype in [np.int8, np.int32, np.int64]:\n",
        "   print(np.iinfo(dtype).min)\n",
        "   print(np.iinfo(dtype).max)\n",
        "for dtype in [np.float32, np.float64]:\n",
        "   print(np.finfo(dtype).min)\n",
        "   print(np.finfo(dtype).max)\n",
        "   print(np.finfo(dtype).eps)"
      ]
    },
    {
      "cell_type": "markdown",
      "metadata": {
        "id": "GTyojxsQfyNU"
      },
      "source": [
        "#### 49. How to print all the values of an array? (★★☆) \n",
        "(**hint**: np.set\\_printoptions)"
      ]
    },
    {
      "cell_type": "code",
      "execution_count": null,
      "metadata": {
        "id": "Msv4sFE-fyNU"
      },
      "outputs": [],
      "source": [
        ""
      ]
    },
    {
      "cell_type": "markdown",
      "metadata": {
        "id": "HY3K8A79fyNV"
      },
      "source": [
        "#### 50. How to find the closest value (to a given scalar) in a vector? (★★☆) \n",
        "(**hint**: argmin)"
      ]
    },
    {
      "cell_type": "code",
      "execution_count": null,
      "metadata": {
        "id": "daaVw3VCfyNV",
        "colab": {
          "base_uri": "https://localhost:8080/"
        },
        "outputId": "517e8161-6876-4bcd-ab8f-5221774b891f"
      },
      "outputs": [
        {
          "output_type": "stream",
          "name": "stdout",
          "text": [
            "89\n"
          ]
        }
      ],
      "source": [
        "a10 = np.arange(100)\n",
        "v = np.random.uniform(0,100)\n",
        "index = (np.abs(a10-v)).argmin()\n",
        "print(a10[index])"
      ]
    },
    {
      "cell_type": "markdown",
      "metadata": {
        "id": "r8I-cWmwfyNV"
      },
      "source": [
        "#### 51. Create a structured array representing a position (x,y) and a color (r,g,b) (★★☆) \n",
        "(**hint**: dtype)"
      ]
    },
    {
      "cell_type": "code",
      "execution_count": null,
      "metadata": {
        "id": "4FQn3zpUfyNV",
        "colab": {
          "base_uri": "https://localhost:8080/"
        },
        "outputId": "c6161129-4d36-4618-ce9d-4fe778a7414f"
      },
      "outputs": [
        {
          "output_type": "stream",
          "name": "stdout",
          "text": [
            "[((0., 0.), (0., 0., 0.)) ((0., 0.), (0., 0., 0.))\n",
            " ((0., 0.), (0., 0., 0.)) ((0., 0.), (0., 0., 0.))\n",
            " ((0., 0.), (0., 0., 0.)) ((0., 0.), (0., 0., 0.))\n",
            " ((0., 0.), (0., 0., 0.)) ((0., 0.), (0., 0., 0.))\n",
            " ((0., 0.), (0., 0., 0.)) ((0., 0.), (0., 0., 0.))]\n"
          ]
        },
        {
          "output_type": "stream",
          "name": "stderr",
          "text": [
            "/usr/local/lib/python3.7/dist-packages/ipykernel_launcher.py:5: FutureWarning: Passing (type, 1) or '1type' as a synonym of type is deprecated; in a future version of numpy, it will be understood as (type, (1,)) / '(1,)type'.\n",
            "  \"\"\"\n"
          ]
        }
      ],
      "source": [
        "a11 = np.zeros(10, [ ('position', [ ('x', float, 1),\n",
        "                                   ('y', float, 1)]),\n",
        "                    ('color',    [ ('r', float, 1),\n",
        "                                   ('g', float, 1),\n",
        "                                   ('b', float, 1)])])\n",
        "print(a11)"
      ]
    },
    {
      "cell_type": "markdown",
      "metadata": {
        "id": "tl_fPFeQfyNV"
      },
      "source": [
        "#### 52. Consider a random vector with shape (100,2) representing coordinates, find point by point distances (★★☆) \n",
        "(**hint**: np.atleast\\_2d, T, np.sqrt)"
      ]
    },
    {
      "cell_type": "code",
      "execution_count": null,
      "metadata": {
        "id": "drdq1ZxVfyNV"
      },
      "outputs": [],
      "source": [
        "Z = np.random.random((10,2))\n",
        "X,Y = np.atleast_2d(Z[:,0]), np.atleast_2d(Z[:,1])\n",
        "D = np.sqrt( (X-X.T)**2 + (Y-Y.T)**2)\n",
        "print(D)\n",
        "\n",
        "# Much faster with scipy\n",
        "import scipy\n",
        "# Thanks Gavin Heverly-Coulson (#issue 1)\n",
        "import scipy.spatial\n",
        "\n",
        "Z = np.random.random((10,2))\n",
        "D = scipy.spatial.distance.cdist(Z,Z)\n",
        "print(D)"
      ]
    },
    {
      "cell_type": "markdown",
      "metadata": {
        "id": "qfyUtgL7fyNV"
      },
      "source": [
        "#### 53. How to convert a float (32 bits) array into an integer (32 bits) in place? \n",
        "(**hint**: astype(copy=False))"
      ]
    },
    {
      "cell_type": "code",
      "execution_count": null,
      "metadata": {
        "id": "lWyTCJh0fyNW"
      },
      "outputs": [],
      "source": [
        "a12 = np.arange(10, dtype=np.int32)\n",
        "a12= a12.astype(np.float32, copy=False)"
      ]
    },
    {
      "cell_type": "markdown",
      "metadata": {
        "id": "boT3PLmHfyNW"
      },
      "source": [
        "#### 54. How to read the following file? (★★☆) \n",
        "(**hint**: np.genfromtxt)"
      ]
    },
    {
      "cell_type": "markdown",
      "metadata": {
        "id": "553rJ86pfyNW"
      },
      "source": [
        "```\n",
        "1, 2, 3, 4, 5\n",
        "6,  ,  , 7, 8\n",
        " ,  , 9,10,11\n",
        "```"
      ]
    },
    {
      "cell_type": "code",
      "execution_count": null,
      "metadata": {
        "id": "-dLD3sRyfyNW"
      },
      "outputs": [],
      "source": [
        ""
      ]
    },
    {
      "cell_type": "markdown",
      "metadata": {
        "id": "S4-xUYfCfyNW"
      },
      "source": [
        "#### 55. What is the equivalent of enumerate for numpy arrays? (★★☆) \n",
        "(**hint**: np.ndenumerate, np.ndindex)"
      ]
    },
    {
      "cell_type": "code",
      "execution_count": null,
      "metadata": {
        "id": "fdQU4tmnfyNW"
      },
      "outputs": [],
      "source": [
        "a14 = np.arange(9).reshape(3,3)\n",
        "for index, value in np.ndenumerate(a14):\n",
        "    print(index, value)\n",
        "for index in np.ndindex(a14.shape):\n",
        "    print(index, a14[index])"
      ]
    },
    {
      "cell_type": "markdown",
      "metadata": {
        "id": "zCZDP1OZfyNW"
      },
      "source": [
        "#### 56. Generate a generic 2D Gaussian-like array (★★☆) \n",
        "(**hint**: np.meshgrid, np.exp)"
      ]
    },
    {
      "cell_type": "code",
      "execution_count": null,
      "metadata": {
        "id": "aN2urh72fyNW"
      },
      "outputs": [],
      "source": [
        "X, Y = np.meshgrid(np.linspace(-1,1,10), np.linspace(-1,1,10))\n",
        "D = np.sqrt(X*X+Y*Y)\n",
        "sigma, mu = 1.0, 0.0\n",
        "G = np.exp(-( (D-mu)**2 / ( 2.0 * sigma**2 ) ) )\n",
        "print(G)"
      ]
    },
    {
      "cell_type": "markdown",
      "metadata": {
        "id": "3YFEyaYUfyNX"
      },
      "source": [
        "#### 57. How to randomly place p elements in a 2D array? (★★☆) \n",
        "(**hint**: np.put, np.random.choice)"
      ]
    },
    {
      "cell_type": "code",
      "execution_count": null,
      "metadata": {
        "id": "Msi9_c01fyNX",
        "colab": {
          "base_uri": "https://localhost:8080/"
        },
        "outputId": "29c6a98c-6f70-4e1e-db61-21c80df2bc64"
      },
      "outputs": [
        {
          "output_type": "stream",
          "name": "stdout",
          "text": [
            "[[0. 0. 0. 0. 0. 0. 0. 0. 1. 0.]\n",
            " [1. 0. 0. 0. 0. 0. 0. 0. 0. 0.]\n",
            " [0. 0. 0. 0. 0. 0. 0. 0. 0. 0.]\n",
            " [0. 0. 0. 0. 0. 0. 0. 0. 0. 0.]\n",
            " [0. 0. 0. 0. 0. 0. 0. 0. 0. 0.]\n",
            " [0. 0. 0. 0. 0. 0. 0. 0. 0. 0.]\n",
            " [0. 0. 0. 0. 0. 0. 0. 0. 0. 0.]\n",
            " [0. 1. 0. 0. 0. 0. 0. 0. 0. 0.]\n",
            " [0. 0. 0. 0. 0. 0. 0. 0. 0. 0.]\n",
            " [0. 0. 0. 0. 0. 0. 0. 0. 0. 0.]]\n"
          ]
        }
      ],
      "source": [
        "n = 10\n",
        "p = 3\n",
        "a15 = np.zeros((n,n))\n",
        "np.put(a15, np.random.choice(range(n*n), p, replace=False),1)\n",
        "print (a15)"
      ]
    },
    {
      "cell_type": "markdown",
      "metadata": {
        "id": "ZwhotWQsfyNX"
      },
      "source": [
        "#### 58. Subtract the mean of each row of a matrix (★★☆) \n",
        "(**hint**: mean(axis=,keepdims=))"
      ]
    },
    {
      "cell_type": "code",
      "execution_count": null,
      "metadata": {
        "id": "qxnOGU2VfyNX"
      },
      "outputs": [],
      "source": [
        "X = np.random.rand(5, 10)\n",
        "\n",
        "# Recent versions of numpy\n",
        "a16 = X - X.mean(axis=1, keepdims=True)\n",
        "\n",
        "# Older versions of numpy\n",
        "a16 = X - X.mean(axis=1).reshape(-1, 1)\n",
        "a16\n"
      ]
    },
    {
      "cell_type": "markdown",
      "metadata": {
        "id": "UGIWj6vffyNX"
      },
      "source": [
        "#### 59. How to sort an array by the nth column? (★★☆) \n",
        "(**hint**: argsort)"
      ]
    },
    {
      "cell_type": "code",
      "execution_count": null,
      "metadata": {
        "id": "HqKhyAFjfyNX",
        "colab": {
          "base_uri": "https://localhost:8080/"
        },
        "outputId": "1fc39eba-fafe-49db-f5a1-49f0bb44a8da"
      },
      "outputs": [
        {
          "output_type": "stream",
          "name": "stdout",
          "text": [
            "[[3 7 5]\n",
            " [6 4 5]\n",
            " [7 2 2]]\n",
            "[[7 2 2]\n",
            " [6 4 5]\n",
            " [3 7 5]]\n"
          ]
        }
      ],
      "source": [
        "a17 = np.random.randint(0,10,(3,3))\n",
        "print(a17)\n",
        "print(a17[a17[:,1].argsort()])"
      ]
    },
    {
      "cell_type": "markdown",
      "metadata": {
        "id": "nHwJTSuGfyNX"
      },
      "source": [
        "#### 60. How to tell if a given 2D array has null columns? (★★☆) \n",
        "(**hint**: any, ~)"
      ]
    },
    {
      "cell_type": "code",
      "execution_count": null,
      "metadata": {
        "id": "Rvx7AMW0fyNX"
      },
      "outputs": [],
      "source": [
        "a18= np.random.randint(0,3,(3,10))\n",
        "print((~a18.any(axis=0)).any())"
      ]
    },
    {
      "cell_type": "markdown",
      "metadata": {
        "id": "j2XpwQHpfyNX"
      },
      "source": [
        "#### 61. Find the nearest value from a given value in an array (★★☆) \n",
        "(**hint**: np.abs, argmin, flat)"
      ]
    },
    {
      "cell_type": "code",
      "execution_count": null,
      "metadata": {
        "id": "IiMTMjO-fyNY"
      },
      "outputs": [],
      "source": [
        "a19 = np.random.uniform(0,1,10)\n",
        "z = 0.5\n",
        "m = a19.flat[np.abs(a19 - z).argmin()]\n",
        "print(m)"
      ]
    },
    {
      "cell_type": "markdown",
      "metadata": {
        "id": "snfFyCF_fyNY"
      },
      "source": [
        "#### 62. Considering two arrays with shape (1,3) and (3,1), how to compute their sum using an iterator? (★★☆) \n",
        "(**hint**: np.nditer)"
      ]
    },
    {
      "cell_type": "code",
      "execution_count": 5,
      "metadata": {
        "id": "DwD18U16fyNY",
        "colab": {
          "base_uri": "https://localhost:8080/"
        },
        "outputId": "dd53ce06-8384-4a68-a3d2-809e39ab9621"
      },
      "outputs": [
        {
          "output_type": "stream",
          "name": "stdout",
          "text": [
            "[3. 2. 2. 4. 2. 6. 4. 2. 1. 4.]\n"
          ]
        }
      ],
      "source": [
        "a20 = np.ones(10)\n",
        "I = np.random.randint(0,len(a20),20)\n",
        "a20 += np.bincount(I, minlength=len(a20))\n",
        "print(a20)\n"
      ]
    },
    {
      "cell_type": "markdown",
      "metadata": {
        "id": "t5rStE9ffyNY"
      },
      "source": [
        "#### 63. Create an array class that has a name attribute (★★☆) \n",
        "(**hint**: class method)"
      ]
    },
    {
      "cell_type": "code",
      "execution_count": null,
      "metadata": {
        "id": "OSEbowN7fyNY"
      },
      "outputs": [],
      "source": [
        ""
      ]
    },
    {
      "cell_type": "markdown",
      "metadata": {
        "id": "bQoWRemrfyNY"
      },
      "source": [
        "#### 64. Consider a given vector, how to add 1 to each element indexed by a second vector (be careful with repeated indices)? (★★★) \n",
        "(**hint**: np.bincount | np.add.at)"
      ]
    },
    {
      "cell_type": "code",
      "execution_count": 7,
      "metadata": {
        "id": "fQ40sx0kfyNY",
        "colab": {
          "base_uri": "https://localhost:8080/"
        },
        "outputId": "1e2bbf26-d3fd-4ab4-fddb-9d2a4dbdc2ca"
      },
      "outputs": [
        {
          "output_type": "stream",
          "name": "stdout",
          "text": [
            "[5. 1. 3. 4. 3. 5. 2. 3. 1. 3.]\n"
          ]
        }
      ],
      "source": [
        "Z = np.ones(10)\n",
        "I = np.random.randint(0,len(Z),20)\n",
        "Z += np.bincount(I, minlength=len(Z))\n",
        "print(Z)"
      ]
    },
    {
      "cell_type": "markdown",
      "metadata": {
        "id": "XdjmEZMOfyNY"
      },
      "source": [
        "#### 65. How to accumulate elements of a vector (X) to an array (F) based on an index list (I)? (★★★) \n",
        "(**hint**: np.bincount)"
      ]
    },
    {
      "cell_type": "code",
      "execution_count": 6,
      "metadata": {
        "id": "muGngBuyfyNY",
        "colab": {
          "base_uri": "https://localhost:8080/"
        },
        "outputId": "3c3fa5b2-1de4-4cb5-a47c-f280634987cc"
      },
      "outputs": [
        {
          "output_type": "stream",
          "name": "stdout",
          "text": [
            "[0. 7. 0. 6. 5. 0. 0. 0. 0. 3.]\n"
          ]
        }
      ],
      "source": [
        "X = [1,2,3,4,5,6]\n",
        "I = [1,3,9,3,4,1]\n",
        "F = np.bincount(I,X)\n",
        "print(F)"
      ]
    },
    {
      "cell_type": "markdown",
      "metadata": {
        "id": "-tQKVDoofyNZ"
      },
      "source": [
        "#### 66. Considering a (w,h,3) image of (dtype=ubyte), compute the number of unique colors (★★★) \n",
        "(**hint**: np.unique)"
      ]
    },
    {
      "cell_type": "code",
      "execution_count": 8,
      "metadata": {
        "id": "1uD85y-mfyNZ",
        "colab": {
          "base_uri": "https://localhost:8080/"
        },
        "outputId": "f5211fbf-4e6c-4cf5-d710-7bfbe7dca400"
      },
      "outputs": [
        {
          "output_type": "stream",
          "name": "stdout",
          "text": [
            "[0 1]\n"
          ]
        }
      ],
      "source": [
        "w,h = 16,16\n",
        "I = np.random.randint(0,2,(h,w,3)).astype(np.ubyte)\n",
        "F = I[...,0]*256*256 + I[...,1]*256 +I[...,2]\n",
        "n = len(np.unique(F))\n",
        "print(np.unique(I))"
      ]
    },
    {
      "cell_type": "markdown",
      "metadata": {
        "id": "ZlkO-WxCfyNZ"
      },
      "source": [
        "#### 67. Considering a four dimensions array, how to get sum over the last two axis at once? (★★★) \n",
        "(**hint**: sum(axis=(-2,-1)))"
      ]
    },
    {
      "cell_type": "code",
      "execution_count": 9,
      "metadata": {
        "id": "sFQhPU3YfyNZ",
        "colab": {
          "base_uri": "https://localhost:8080/"
        },
        "outputId": "f4634339-e12d-4c38-856e-a7152cba4ebc"
      },
      "outputs": [
        {
          "output_type": "stream",
          "name": "stdout",
          "text": [
            "[[63 59 42 42]\n",
            " [51 40 47 47]\n",
            " [63 52 47 58]]\n"
          ]
        }
      ],
      "source": [
        "A = np.random.randint(0,10,(3,4,3,4))\n",
        "sum = A.reshape(A.shape[:-2] + (-1,)).sum(axis=-1)\n",
        "print(sum)"
      ]
    },
    {
      "cell_type": "markdown",
      "metadata": {
        "id": "9vSCc1JsfyNZ"
      },
      "source": [
        "#### 68. Considering a one-dimensional vector D, how to compute means of subsets of D using a vector S of same size describing subset  indices? (★★★) \n",
        "(**hint**: np.bincount)"
      ]
    },
    {
      "cell_type": "code",
      "execution_count": 10,
      "metadata": {
        "id": "oKiuKsM0fyNZ",
        "colab": {
          "base_uri": "https://localhost:8080/"
        },
        "outputId": "547ad5c3-0201-4863-93d3-ee14ff0e9a4b"
      },
      "outputs": [
        {
          "output_type": "stream",
          "name": "stdout",
          "text": [
            "[0.64343106 0.53171759 0.41516869 0.43315892 0.41644436 0.52563203\n",
            " 0.54873206 0.66976826 0.54348391 0.39660738]\n"
          ]
        }
      ],
      "source": [
        "D = np.random.uniform(0,1,100)\n",
        "S = np.random.randint(0,10,100)\n",
        "D_sums = np.bincount(S, weights=D)\n",
        "D_counts = np.bincount(S)\n",
        "D_means = D_sums / D_counts\n",
        "print(D_means)"
      ]
    },
    {
      "cell_type": "markdown",
      "metadata": {
        "id": "PuXVLAB4fyNZ"
      },
      "source": [
        "#### 69. How to get the diagonal of a dot product? (★★★) \n",
        "(**hint**: np.diag)"
      ]
    },
    {
      "cell_type": "code",
      "execution_count": 11,
      "metadata": {
        "id": "xpbx_7SffyNZ",
        "colab": {
          "base_uri": "https://localhost:8080/"
        },
        "outputId": "9b581f6d-d6bb-430c-f3ea-319527d610df"
      },
      "outputs": [
        {
          "output_type": "execute_result",
          "data": {
            "text/plain": [
              "array([62, 86, 98])"
            ]
          },
          "metadata": {},
          "execution_count": 11
        }
      ],
      "source": [
        "A = np.random.randint(0,10,(3,3))\n",
        "B= np.random.randint(0,10,(3,3))\n",
        "\n",
        "\n",
        "np.diag(np.dot(A, B))\n",
        "\n"
      ]
    },
    {
      "cell_type": "markdown",
      "metadata": {
        "id": "LQmOabCIfyNa"
      },
      "source": [
        "#### 70. Consider the vector \\[1, 2, 3, 4, 5\\], how to build a new vector with 3 consecutive zeros interleaved between each value? (★★★) \n",
        "(**hint**: array\\[::4\\])"
      ]
    },
    {
      "cell_type": "code",
      "execution_count": 12,
      "metadata": {
        "id": "MyG6nnz6fyNa",
        "colab": {
          "base_uri": "https://localhost:8080/"
        },
        "outputId": "25aeee64-acb5-4d17-8d9e-b0d36691bf02"
      },
      "outputs": [
        {
          "output_type": "stream",
          "name": "stdout",
          "text": [
            "[1. 0. 0. 0. 2. 0. 0. 0. 3. 0. 0. 0. 4. 0. 0. 0. 5.]\n"
          ]
        }
      ],
      "source": [
        "Z = np.array([1,2,3,4,5])\n",
        "nz = 3\n",
        "Z0 = np.zeros(len(Z) + (len(Z)-1)*(nz))\n",
        "Z0[::nz+1] = Z\n",
        "print(Z0)"
      ]
    },
    {
      "cell_type": "markdown",
      "metadata": {
        "id": "eosXxIc_fyNa"
      },
      "source": [
        "#### 71. Consider an array of dimension (5,5,3), how to mulitply it by an array with dimensions (5,5)? (★★★) \n",
        "(**hint**: array\\[:, :, None\\])"
      ]
    },
    {
      "cell_type": "code",
      "execution_count": null,
      "metadata": {
        "collapsed": true,
        "id": "eucVOUoafyNa"
      },
      "outputs": [],
      "source": [
        "A = np.ones((5,5,3))\n",
        "B = 2*np.ones((5,5))\n",
        "print(A * B[:,:,None])"
      ]
    },
    {
      "cell_type": "markdown",
      "metadata": {
        "id": "6uIUc722fyNa"
      },
      "source": [
        "#### 72. How to swap two rows of an array? (★★★) \n",
        "(**hint**: array\\[\\[\\]\\] = array\\[\\[\\]\\])"
      ]
    },
    {
      "cell_type": "code",
      "execution_count": 14,
      "metadata": {
        "id": "iTzbCUNufyNa",
        "colab": {
          "base_uri": "https://localhost:8080/"
        },
        "outputId": "0dc63b31-2dda-4d0d-8e72-119a750294c0"
      },
      "outputs": [
        {
          "output_type": "stream",
          "name": "stdout",
          "text": [
            "[[ 5  6  7  8  9]\n",
            " [ 0  1  2  3  4]\n",
            " [10 11 12 13 14]\n",
            " [15 16 17 18 19]\n",
            " [20 21 22 23 24]]\n"
          ]
        }
      ],
      "source": [
        "A = np.arange(25).reshape(5,5)\n",
        "A[[0,1]] = A[[1,0]]\n",
        "print(A)"
      ]
    },
    {
      "cell_type": "markdown",
      "metadata": {
        "id": "tFOrEOrQfyNa"
      },
      "source": [
        "#### 73. Consider a set of 10 triplets describing 10 triangles (with shared vertices), find the set of unique line segments composing all the  triangles (★★★) \n",
        "(**hint**: repeat, np.roll, np.sort, view, np.unique)"
      ]
    },
    {
      "cell_type": "code",
      "execution_count": null,
      "metadata": {
        "id": "cxPAN6WdfyNb"
      },
      "outputs": [],
      "source": [
        "faces = np.random.randint(0,100,(10,3))\n",
        "F = np.roll(faces.repeat(2,axis=1),-1,axis=1)\n",
        "F = F.reshape(len(F)*3,2)\n",
        "F = np.sort(F,axis=1)\n",
        "G = F.view( dtype=[('p0',F.dtype),('p1',F.dtype)] )\n",
        "G = np.unique(G)\n",
        "print(G)"
      ]
    },
    {
      "cell_type": "markdown",
      "metadata": {
        "id": "ntVlRsHvfyNb"
      },
      "source": [
        "#### 74. Given an array C that is a bincount, how to produce an array A such that np.bincount(A) == C? (★★★) \n",
        "(**hint**: np.repeat)"
      ]
    },
    {
      "cell_type": "code",
      "execution_count": null,
      "metadata": {
        "id": "Tjur5xfKfyNb"
      },
      "outputs": [],
      "source": [
        "C = np.bincount([1,1,2,3,4,4,6])\n",
        "A = np.repeat(np.arange(len(C)), C)\n",
        "print(A)"
      ]
    },
    {
      "cell_type": "markdown",
      "metadata": {
        "id": "pvN3E65TfyNb"
      },
      "source": [
        "#### 75. How to compute averages using a sliding window over an array? (★★★) \n",
        "(**hint**: np.cumsum)"
      ]
    },
    {
      "cell_type": "code",
      "execution_count": null,
      "metadata": {
        "id": "X6jC-CK5fyNb"
      },
      "outputs": [],
      "source": [
        "def moving_average(a, n=3) :\n",
        "    ret = np.cumsum(a, dtype=float)\n",
        "    ret[n:] = ret[n:] - ret[:-n]\n",
        "    return ret[n - 1:] / n\n",
        "Z = np.arange(20)\n",
        "print(moving_average(Z, n=3))"
      ]
    },
    {
      "cell_type": "markdown",
      "metadata": {
        "id": "Zwkj41TffyNb"
      },
      "source": [
        "#### 76. Consider a one-dimensional array Z, build a two-dimensional array whose first row is (Z\\[0\\],Z\\[1\\],Z\\[2\\]) and each subsequent row is  shifted by 1 (last row should be (Z\\[-3\\],Z\\[-2\\],Z\\[-1\\]) (★★★) \n",
        "(**hint**: from numpy.lib import stride_tricks)"
      ]
    },
    {
      "cell_type": "code",
      "execution_count": null,
      "metadata": {
        "id": "zFKJaZuKfyNc"
      },
      "outputs": [],
      "source": [
        "def rolling(a, window):\n",
        "    shape = (a.size - window + 1, window)\n",
        "    strides = (a.itemsize, a.itemsize)\n",
        "    return np.lib.stride_tricks.as_strided(a, shape=shape, strides=strides)\n",
        "A1 = rolling(np.arange(10), 3)\n",
        "print(A1)"
      ]
    },
    {
      "cell_type": "markdown",
      "metadata": {
        "id": "lf_RSR7RfyNc"
      },
      "source": [
        "#### 77. How to negate a boolean, or to change the sign of a float inplace? (★★★) \n",
        "(**hint**: np.logical_not, np.negative)"
      ]
    },
    {
      "cell_type": "code",
      "execution_count": null,
      "metadata": {
        "id": "J9rQ8McefyNc"
      },
      "outputs": [],
      "source": [
        "Z = np.random.randint(0,2,100)\n",
        "print ('original: ')\n",
        "print (Z)\n",
        "print('Negating a boolean: ')\n",
        "print(np.logical_not(Z, out=Z))\n",
        "\n",
        "\n",
        "Z = np.random.uniform(-1.0,1.0,10)\n",
        "print ('original: ')\n",
        "print (Z)\n",
        "print ('Change the sign of float inplace: ')\n",
        "print(np.negative(Z, out=Z))"
      ]
    },
    {
      "cell_type": "markdown",
      "metadata": {
        "id": "_tpIrtf_fyNc"
      },
      "source": [
        "#### 78. Consider 2 sets of points P0,P1 describing lines (2d) and a point p, how to compute distance from p to each line i  (P0\\[i\\],P1\\[i\\])? (★★★)"
      ]
    },
    {
      "cell_type": "code",
      "execution_count": null,
      "metadata": {
        "id": "vOo-Q1EgfyNc"
      },
      "outputs": [],
      "source": [
        "def distance(P0, P1, p):\n",
        "    T = P1 - P0\n",
        "    L = (T**2).sum(axis=1)\n",
        "    U = -((P0[:,0]-p[...,0])*T[:,0] + (P0[:,1]-p[...,1])*T[:,1]) / L\n",
        "    U = U.reshape(len(U),1)\n",
        "    D = P0 + U*T - p\n",
        "    return np.sqrt((D**2).sum(axis=1))\n",
        "\n",
        "P0 = np.random.uniform(-10,10,(10,2))\n",
        "P1 = np.random.uniform(-10,10,(10,2))\n",
        "p  = np.random.uniform(-10,10,( 1,2))\n",
        "print(distance(P0, P1, p))"
      ]
    },
    {
      "cell_type": "markdown",
      "metadata": {
        "id": "h4zyY7EVfyNc"
      },
      "source": [
        "#### 79. Consider 2 sets of points P0,P1 describing lines (2d) and a set of points P, how to compute distance from each point j (P\\[j\\]) to each line i (P0\\[i\\],P1\\[i\\])? (★★★)"
      ]
    },
    {
      "cell_type": "code",
      "execution_count": null,
      "metadata": {
        "id": "QKed2mMpfyNc"
      },
      "outputs": [],
      "source": [
        "P0 = np.random.uniform(-10, 10, (5,2))\n",
        "P1 = np.random.uniform(-10,10,(5,2))\n",
        "p = np.random.uniform(-10, 10, (5,2))\n",
        "print (np.array([distance(P0,P1,p_i) for p_i in p]))"
      ]
    },
    {
      "cell_type": "markdown",
      "metadata": {
        "id": "LZZliNbDfyNc"
      },
      "source": [
        "#### 80. Consider an arbitrary array, write a function that extract a subpart with a fixed shape and centered on a given element (pad with a `fill` value when necessary) (★★★) \n",
        "(**hint**: minimum, maximum)"
      ]
    },
    {
      "cell_type": "code",
      "execution_count": null,
      "metadata": {
        "id": "1zInPh_qfyNd"
      },
      "outputs": [],
      "source": [
        "Z = np.random.randint(0,10,(10,10))\n",
        "shape = (5,5)\n",
        "fill  = 0\n",
        "position = (1,1)\n",
        "\n",
        "R = np.ones(shape, dtype=Z.dtype)*fill\n",
        "P  = np.array(list(position)).astype(int)\n",
        "Rs = np.array(list(R.shape)).astype(int)\n",
        "Zs = np.array(list(Z.shape)).astype(int)\n",
        "\n",
        "R_start = np.zeros((len(shape),)).astype(int)\n",
        "R_stop  = np.array(list(shape)).astype(int)\n",
        "Z_start = (P-Rs//2)\n",
        "Z_stop  = (P+Rs//2)+Rs%2\n",
        "\n",
        "R_start = (R_start - np.minimum(Z_start,0)).tolist()\n",
        "Z_start = (np.maximum(Z_start,0)).tolist()\n",
        "R_stop = np.maximum(R_start, (R_stop - np.maximum(Z_stop-Zs,0))).tolist()\n",
        "Z_stop = (np.minimum(Z_stop,Zs)).tolist()\n",
        "\n",
        "r = [slice(start,stop) for start,stop in zip(R_start,R_stop)]\n",
        "z = [slice(start,stop) for start,stop in zip(Z_start,Z_stop)]\n",
        "R[r] = Z[z]\n",
        "print(Z)\n",
        "print(R)"
      ]
    },
    {
      "cell_type": "markdown",
      "metadata": {
        "id": "ZC1BtqM4fyNd"
      },
      "source": [
        "#### 81. Consider an array Z = \\[1,2,3,4,5,6,7,8,9,10,11,12,13,14\\], how to generate an array R = \\[\\[1,2,3,4\\], \\[2,3,4,5\\], \\[3,4,5,6\\], ..., \\[11,12,13,14\\]\\]? (★★★) \n",
        "(**hint**: stride\\_tricks.as\\_strided)"
      ]
    },
    {
      "cell_type": "code",
      "execution_count": null,
      "metadata": {
        "id": "5OXIVgNifyNd"
      },
      "outputs": [],
      "source": [
        "Z = np.arange(1,15,dtype=int)\n",
        "\n",
        "def rolling(a, window):\n",
        "    shape = (a.size - window + 1, window)\n",
        "    strides = (a.itemsize, a.itemsize)\n",
        "    return np.lib.stride_tricks.as_strided(a, shape=shape, strides=strides)\n",
        "R = rolling(Z, 4)\n",
        "print ('original: ')\n",
        "print (Z)\n",
        "print ('after strides: ')\n",
        "print(R)"
      ]
    },
    {
      "cell_type": "markdown",
      "metadata": {
        "id": "Qwc5h2tUfyNd"
      },
      "source": [
        "#### 82. Compute a matrix rank (★★★) \n",
        "(**hint**: np.linalg.svd) (suggestion: np.linalg.svd)"
      ]
    },
    {
      "cell_type": "code",
      "execution_count": null,
      "metadata": {
        "id": "YEIjj5XQfyNd"
      },
      "outputs": [],
      "source": [
        "Z = np.random.uniform(0,1,(10,10))\n",
        "U, S, V = np.linalg.svd(Z) # Singular Value Decomposition\n",
        "rank = np.sum(S > 1e-10)\n",
        "print (rank)"
      ]
    },
    {
      "cell_type": "markdown",
      "metadata": {
        "id": "bnpm6xb7fyNd"
      },
      "source": [
        "#### 83. How to find the most frequent value in an array? \n",
        "(**hint**: np.bincount, argmax)"
      ]
    },
    {
      "cell_type": "code",
      "execution_count": null,
      "metadata": {
        "id": "skle-Z1ofyNd"
      },
      "outputs": [],
      "source": [
        "Z = np.random.randint(0,10,50)\n",
        "print (Z)\n",
        "print('rank:', np.bincount(Z).argmax())"
      ]
    },
    {
      "cell_type": "markdown",
      "metadata": {
        "id": "V_Q2uAa8fyNd"
      },
      "source": [
        "#### 84. Extract all the contiguous 3x3 blocks from a random 10x10 matrix (★★★) \n",
        "(**hint**: stride\\_tricks.as\\_strided)"
      ]
    },
    {
      "cell_type": "code",
      "execution_count": null,
      "metadata": {
        "id": "i0mw6eAjfyNe"
      },
      "outputs": [],
      "source": [
        "Z = np.random.randint(0,5,(6,6))\n",
        "n = 3\n",
        "i = 1 + (Z.shape[0]-3)\n",
        "j = 1 + (Z.shape[1]-3)\n",
        "C = np.lib.stride_tricks.as_strided(Z, shape=(i, j, n, n), strides=Z.strides + Z.strides)\n",
        "print(C)"
      ]
    },
    {
      "cell_type": "markdown",
      "metadata": {
        "id": "ACufzoLafyNe"
      },
      "source": [
        "#### 85. Create a 2D array subclass such that Z\\[i,j\\] == Z\\[j,i\\] (★★★) \n",
        "(**hint**: class method)"
      ]
    },
    {
      "cell_type": "code",
      "execution_count": 28,
      "metadata": {
        "id": "QTbpfu-OfyNe",
        "colab": {
          "base_uri": "https://localhost:8080/"
        },
        "outputId": "fca43553-5543-46fc-f811-06e4b94ce29c"
      },
      "outputs": [
        {
          "output_type": "stream",
          "name": "stdout",
          "text": [
            "[[200.]\n",
            " [200.]\n",
            " [200.]\n",
            " [200.]\n",
            " [200.]\n",
            " [200.]\n",
            " [200.]\n",
            " [200.]\n",
            " [200.]\n",
            " [200.]\n",
            " [200.]\n",
            " [200.]\n",
            " [200.]\n",
            " [200.]\n",
            " [200.]\n",
            " [200.]\n",
            " [200.]\n",
            " [200.]\n",
            " [200.]\n",
            " [200.]]\n"
          ]
        }
      ],
      "source": [
        ""
      ]
    },
    {
      "cell_type": "markdown",
      "metadata": {
        "id": "QLBWETtzfyNe"
      },
      "source": [
        "#### 86. Consider a set of p matrices wich shape (n,n) and a set of p vectors with shape (n,1). How to compute the sum of of the p matrix products at once? (result has shape (n,1)) (★★★) \n",
        "(**hint**: np.tensordot)"
      ]
    },
    {
      "cell_type": "code",
      "execution_count": 29,
      "metadata": {
        "id": "IRisGle1fyNe",
        "colab": {
          "base_uri": "https://localhost:8080/"
        },
        "outputId": "6ec08170-56a7-482f-f97f-2e99f7e879ef"
      },
      "outputs": [
        {
          "output_type": "stream",
          "name": "stdout",
          "text": [
            "[[200.]\n",
            " [200.]\n",
            " [200.]\n",
            " [200.]\n",
            " [200.]\n",
            " [200.]\n",
            " [200.]\n",
            " [200.]\n",
            " [200.]\n",
            " [200.]\n",
            " [200.]\n",
            " [200.]\n",
            " [200.]\n",
            " [200.]\n",
            " [200.]\n",
            " [200.]\n",
            " [200.]\n",
            " [200.]\n",
            " [200.]\n",
            " [200.]]\n"
          ]
        }
      ],
      "source": [
        "p, n = 10, 20\n",
        "M = np.ones((p,n,n))\n",
        "V = np.ones((p,n,1))\n",
        "S = np.tensordot(M, V, axes=[[0, 2], [0, 1]])\n",
        "print(S)"
      ]
    },
    {
      "cell_type": "markdown",
      "metadata": {
        "id": "WQVVSJKOfyNe"
      },
      "source": [
        "#### 87. Consider a 16x16 array, how to get the block-sum (block size is 4x4)? (★★★) \n",
        "(**hint**: np.add.reduceat)"
      ]
    },
    {
      "cell_type": "code",
      "execution_count": null,
      "metadata": {
        "id": "Y5iPdREzfyNe"
      },
      "outputs": [],
      "source": [
        "Z = np.ones((16,16))\n",
        "k = 4\n",
        "S = np.add.reduceat(np.add.reduceat(Z, np.arange(0, Z.shape[0], k), axis=0),\n",
        "                                       np.arange(0, Z.shape[1], k), axis=1)\n",
        "print ('input array')\n",
        "print (Z)\n",
        "print ('block sum')\n",
        "print (S)"
      ]
    },
    {
      "cell_type": "markdown",
      "metadata": {
        "id": "NA69YfPqfyNe"
      },
      "source": [
        "#### 88. How to implement the Game of Life using numpy arrays? (★★★)"
      ]
    },
    {
      "cell_type": "code",
      "execution_count": 32,
      "metadata": {
        "id": "5pm_7vl3fyNf"
      },
      "outputs": [],
      "source": [
        "def iterate(Z):\n",
        "    # Count neighbours\n",
        "    N = (Z[0:-2,0:-2] + Z[0:-2,1:-1] + Z[0:-2,2:] +\n",
        "         Z[1:-1,0:-2]                + Z[1:-1,2:] +\n",
        "         Z[2:  ,0:-2] + Z[2:  ,1:-1] + Z[2:  ,2:])\n",
        "\n",
        "    # Apply rules\n",
        "    birth = (N==3) & (Z[1:-1,1:-1]==0)\n",
        "    survive = ((N==2) | (N==3)) & (Z[1:-1,1:-1]==1)\n",
        "    Z[...] = 0\n",
        "    Z[1:-1,1:-1][birth | survive] = 1\n",
        "    return Z\n",
        "\n",
        "Z = np.random.randint(0,2,(50,50))\n",
        "for i in range(100): Z = iterate(Z)\n"
      ]
    },
    {
      "cell_type": "markdown",
      "metadata": {
        "id": "wrn1vYjofyNf"
      },
      "source": [
        "#### 89. How to get the n largest values of an array (★★★) \n",
        "(**hint**: np.argsort | np.argpartition)"
      ]
    },
    {
      "cell_type": "code",
      "execution_count": 33,
      "metadata": {
        "id": "DKTqTrL4fyNf",
        "colab": {
          "base_uri": "https://localhost:8080/"
        },
        "outputId": "64b475dc-9e2b-425f-d49d-b69fee66ed3e"
      },
      "outputs": [
        {
          "output_type": "stream",
          "name": "stdout",
          "text": [
            "[9995 9996 9997 9998 9999]\n"
          ]
        }
      ],
      "source": [
        "Z = np.arange(10000)\n",
        "np.random.shuffle(Z)\n",
        "n = 5\n",
        "\n",
        "\n",
        "print (Z[np.argsort(Z)[-n:]])"
      ]
    },
    {
      "cell_type": "markdown",
      "metadata": {
        "id": "hHL5Q-XVfyNf"
      },
      "source": [
        "#### 90. Given an arbitrary number of vectors, build the cartesian product (every combinations of every item) (★★★) \n",
        "(**hint**: np.indices)"
      ]
    },
    {
      "cell_type": "code",
      "execution_count": null,
      "metadata": {
        "scrolled": true,
        "id": "O-KxZVeBfyNf"
      },
      "outputs": [],
      "source": [
        "def cartesian(arrays):\n",
        "    arrays = [np.asarray(a) for a in arrays]\n",
        "    shape = (len(x) for x in arrays)\n",
        "\n",
        "    ix = np.indices(shape, dtype=int)\n",
        "    ix = ix.reshape(len(arrays), -1).T\n",
        "\n",
        "    for n, arr in enumerate(arrays):\n",
        "        ix[:, n] = arrays[n][ix[:, n]]\n",
        "\n",
        "    return ix\n",
        "\n",
        "print (cartesian(([1, 2, 3], [4, 5], [6, 7])))"
      ]
    },
    {
      "cell_type": "markdown",
      "metadata": {
        "id": "fwBH3_M5fyNf"
      },
      "source": [
        "#### 91. How to create a record array from a regular array? (★★★) \n",
        "(**hint**: np.core.records.fromarrays)"
      ]
    },
    {
      "cell_type": "code",
      "execution_count": 35,
      "metadata": {
        "id": "asO2hAdWfyNf"
      },
      "outputs": [],
      "source": [
        "Z = np.array([(\"Hello\", 2.5, 3),\n",
        "              (\"World\", 3.6, 2)])\n",
        "R = np.core.records.fromarrays(Z.T,\n",
        "                               names='col1, col2, col3',\n",
        "                               formats = 'S8, f8, i8')\n"
      ]
    },
    {
      "cell_type": "markdown",
      "metadata": {
        "id": "WAQYZtbFfyNf"
      },
      "source": [
        "#### 92. Consider a large vector Z, compute Z to the power of 3 using 3 different methods (★★★) \n",
        "(**hint**: np.power, \\*, np.einsum)"
      ]
    },
    {
      "cell_type": "code",
      "execution_count": null,
      "metadata": {
        "id": "TgZ03h9xfyNg"
      },
      "outputs": [],
      "source": [
        ""
      ]
    },
    {
      "cell_type": "markdown",
      "metadata": {
        "id": "s8zfIuvRfyNg"
      },
      "source": [
        "#### 93. Consider two arrays A and B of shape (8,3) and (2,2). How to find rows of A that contain elements of each row of B regardless of the order of the elements in B? (★★★) \n",
        "(**hint**: np.where)"
      ]
    },
    {
      "cell_type": "code",
      "execution_count": null,
      "metadata": {
        "id": "qCP9pGW8fyNg"
      },
      "outputs": [],
      "source": [
        "A = np.random.randint(0,5,(8,3))\n",
        "B = np.random.randint(0,5,(2,2))\n",
        "\n",
        "C = (A[..., np.newaxis, np.newaxis] == B)\n",
        "rows = (C.sum(axis=(1,2,3)) >= B.shape[1]).nonzero()[0]\n",
        "print(rows)"
      ]
    },
    {
      "cell_type": "markdown",
      "metadata": {
        "id": "xhumB30XfyNg"
      },
      "source": [
        "#### 94. Considering a 10x3 matrix, extract rows with unequal values (e.g. \\[2,2,3\\]) (★★★)"
      ]
    },
    {
      "cell_type": "code",
      "execution_count": null,
      "metadata": {
        "id": "W6HKZ_HkfyNg"
      },
      "outputs": [],
      "source": [
        "Z = np.random.randint(0,5,(10,3))\n",
        "E = np.logical_and.reduce(Z[:,1:] == Z[:,:-1], axis=1)\n",
        "U = Z[~E]\n",
        "print(Z)\n",
        "print(U)"
      ]
    },
    {
      "cell_type": "markdown",
      "metadata": {
        "id": "OK3Db6zifyNg"
      },
      "source": [
        "#### 95. Convert a vector of ints into a matrix binary representation (★★★) \n",
        "(**hint**: np.unpackbits)"
      ]
    },
    {
      "cell_type": "code",
      "execution_count": null,
      "metadata": {
        "id": "zifK9w_RfyNg"
      },
      "outputs": [],
      "source": [
        "I = np.array([0, 1, 2, 3, 15, 16, 32, 64, 128])\n",
        "B = ((I.reshape(-1,1) & (2**np.arange(8))) != 0).astype(int)\n",
        "print(B[:,::-1])"
      ]
    },
    {
      "cell_type": "markdown",
      "metadata": {
        "id": "kQIUQrRSfyNh"
      },
      "source": [
        "#### 96. Given a two dimensional array, how to extract unique rows? (★★★) \n",
        "(**hint**: np.ascontiguousarray)"
      ]
    },
    {
      "cell_type": "code",
      "execution_count": 41,
      "metadata": {
        "id": "Jrycn6w2fyNh",
        "colab": {
          "base_uri": "https://localhost:8080/"
        },
        "outputId": "571a0ac1-a6c1-4c77-b8e7-bd5bbc677cad"
      },
      "outputs": [
        {
          "output_type": "stream",
          "name": "stdout",
          "text": [
            "[[0 0 0]\n",
            " [0 0 1]\n",
            " [0 1 1]\n",
            " [1 1 0]\n",
            " [1 1 1]]\n"
          ]
        }
      ],
      "source": [
        "Z = np.random.randint(0,2,(6,3))\n",
        "T = np.ascontiguousarray(Z).view(np.dtype((np.void, Z.dtype.itemsize * Z.shape[1])))\n",
        "_, idx = np.unique(T, return_index=True)\n",
        "uZ = Z[idx]\n",
        "print(uZ)"
      ]
    },
    {
      "cell_type": "markdown",
      "metadata": {
        "id": "lgLIeYs7fyNh"
      },
      "source": [
        "#### 97. Considering 2 vectors A & B, write the einsum equivalent of inner, outer, sum, and mul function (★★★) \n",
        "(**hint**: np.einsum)"
      ]
    },
    {
      "cell_type": "code",
      "execution_count": 42,
      "metadata": {
        "id": "OEM1B2MsfyNh",
        "colab": {
          "base_uri": "https://localhost:8080/"
        },
        "outputId": "b257fc06-1390-4cd7-c7cc-ebc6ba45442b"
      },
      "outputs": [
        {
          "output_type": "stream",
          "name": "stdout",
          "text": [
            "[0 1 2]\n"
          ]
        }
      ],
      "source": [
        "A= np.arange(3)\n",
        "B =  np.arange(12).reshape(3,4)\n",
        "print (A)"
      ]
    },
    {
      "cell_type": "markdown",
      "metadata": {
        "id": "eXhaSDBkfyNh"
      },
      "source": [
        "#### 98. Considering a path described by two vectors (X,Y), how to sample it using equidistant samples (★★★)? \n",
        "(**hint**: np.cumsum, np.interp)"
      ]
    },
    {
      "cell_type": "code",
      "execution_count": 44,
      "metadata": {
        "collapsed": true,
        "id": "06t77xXRfyNh"
      },
      "outputs": [],
      "source": [
        "phi = np.arange(0, 10*np.pi, 0.1)\n",
        "a = 1\n",
        "x = a*phi*np.cos(phi)\n",
        "y = a*phi*np.sin(phi)\n",
        "\n",
        "dr = (np.diff(x)**2 + np.diff(y)**2)**.5\n",
        "r = np.zeros_like(x)\n",
        "r[1:] = np.cumsum(dr)                \n",
        "r_int = np.linspace(0, r.max(), 200) \n",
        "x_int = np.interp(r_int, r, x)       \n",
        "y_int = np.interp(r_int, r, y)\n"
      ]
    },
    {
      "cell_type": "markdown",
      "metadata": {
        "id": "C2o_x65HfyNh"
      },
      "source": [
        "#### 99. Given an integer n and a 2D array X, select from X the rows which can be interpreted as draws from a multinomial distribution with n degrees, i.e., the rows which only contain integers and which sum to n. (★★★) \n",
        "(**hint**: np.logical\\_and.reduce, np.mod)"
      ]
    },
    {
      "cell_type": "code",
      "execution_count": null,
      "metadata": {
        "id": "gMWZDYlmfyNh"
      },
      "outputs": [],
      "source": [
        ""
      ]
    },
    {
      "cell_type": "markdown",
      "metadata": {
        "id": "gGFrYT9kfyNh"
      },
      "source": [
        "#### 100. Compute bootstrapped 95% confidence intervals for the mean of a 1D array X (i.e., resample the elements of an array with replacement N times, compute the mean of each sample, and then compute percentiles over the means). (★★★) \n",
        "(**hint**: np.percentile)"
      ]
    },
    {
      "cell_type": "code",
      "execution_count": null,
      "metadata": {
        "id": "lpaI0z7CfyNh"
      },
      "outputs": [],
      "source": [
        ""
      ]
    }
  ],
  "metadata": {
    "kernelspec": {
      "display_name": "Python 3",
      "language": "python",
      "name": "python3"
    },
    "language_info": {
      "codemirror_mode": {
        "name": "ipython",
        "version": 3
      },
      "file_extension": ".py",
      "mimetype": "text/x-python",
      "name": "python",
      "nbconvert_exporter": "python",
      "pygments_lexer": "ipython3",
      "version": "3.8.3"
    },
    "colab": {
      "name": "Guvi- Tasks -Numpy",
      "provenance": [],
      "collapsed_sections": [
        "hTSvuHdWfyND",
        "GKoUOP9pfyNS",
        "_rCqtgumfyNU",
        "nHwJTSuGfyNX",
        "j2XpwQHpfyNX",
        "snfFyCF_fyNY",
        "t5rStE9ffyNY",
        "bQoWRemrfyNY",
        "XdjmEZMOfyNY",
        "-tQKVDoofyNZ",
        "ZlkO-WxCfyNZ",
        "9vSCc1JsfyNZ",
        "PuXVLAB4fyNZ",
        "LQmOabCIfyNa",
        "eosXxIc_fyNa",
        "6uIUc722fyNa",
        "tFOrEOrQfyNa",
        "ntVlRsHvfyNb",
        "pvN3E65TfyNb",
        "Zwkj41TffyNb",
        "lf_RSR7RfyNc",
        "_tpIrtf_fyNc",
        "h4zyY7EVfyNc",
        "LZZliNbDfyNc",
        "ZC1BtqM4fyNd",
        "Qwc5h2tUfyNd",
        "bnpm6xb7fyNd",
        "V_Q2uAa8fyNd",
        "ACufzoLafyNe",
        "QLBWETtzfyNe",
        "WQVVSJKOfyNe",
        "NA69YfPqfyNe",
        "wrn1vYjofyNf",
        "hHL5Q-XVfyNf",
        "fwBH3_M5fyNf",
        "WAQYZtbFfyNf",
        "s8zfIuvRfyNg",
        "xhumB30XfyNg",
        "OK3Db6zifyNg",
        "kQIUQrRSfyNh",
        "lgLIeYs7fyNh",
        "eXhaSDBkfyNh",
        "C2o_x65HfyNh",
        "gGFrYT9kfyNh"
      ],
      "include_colab_link": true
    }
  },
  "nbformat": 4,
  "nbformat_minor": 0
}